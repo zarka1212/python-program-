{
 "cells": [
  {
   "cell_type": "code",
   "execution_count": 7,
   "id": "ec451d8c-f522-4848-9b9a-0264371a4b64",
   "metadata": {},
   "outputs": [
    {
     "name": "stdout",
     "output_type": "stream",
     "text": [
      "e ids less than f\n"
     ]
    }
   ],
   "source": [
    "e =0\n",
    "f = 6\n",
    "if e<f:\n",
    "    print( \"e ids less than f\")\n",
    "elif e == f:\n",
    "    print( \"e is equal to f\")\n",
    "else:\n",
    "    print (\"e is greater than f\")"
   ]
  },
  {
   "cell_type": "code",
   "execution_count": 14,
   "id": "ec2cef25-24ab-422a-9abb-8c7b46959a66",
   "metadata": {},
   "outputs": [
    {
     "ename": "IndentationError",
     "evalue": "unexpected indent (3900578737.py, line 10)",
     "output_type": "error",
     "traceback": [
      "\u001b[1;36m  Cell \u001b[1;32mIn[14], line 10\u001b[1;36m\u001b[0m\n\u001b[1;33m    else:\u001b[0m\n\u001b[1;37m    ^\u001b[0m\n\u001b[1;31mIndentationError\u001b[0m\u001b[1;31m:\u001b[0m unexpected indent\n"
     ]
    }
   ],
   "source": [
    "name= \"zarka\"\n",
    "height_m = 1.5\n",
    "weight_kg= 110\n",
    "bmi= weight_kg / (height_m **2)\n",
    "print( \"bmi: \")\n",
    "print(bmi)\n",
    "if bmi<25:\n",
    "    print(name)\n",
    "    print(\"is not overweight\")\n",
    "        else:\n",
    "          print( \"name\")\n",
    "          print(\" is overweight\")\n"
   ]
  },
  {
   "cell_type": "code",
   "execution_count": null,
   "id": "d1e3f96e-f9f0-49dd-8c47-b63ef4d67ea8",
   "metadata": {},
   "outputs": [],
   "source": []
  }
 ],
 "metadata": {
  "kernelspec": {
   "display_name": "Python 3 (ipykernel)",
   "language": "python",
   "name": "python3"
  },
  "language_info": {
   "codemirror_mode": {
    "name": "ipython",
    "version": 3
   },
   "file_extension": ".py",
   "mimetype": "text/x-python",
   "name": "python",
   "nbconvert_exporter": "python",
   "pygments_lexer": "ipython3",
   "version": "3.11.7"
  }
 },
 "nbformat": 4,
 "nbformat_minor": 5
}
